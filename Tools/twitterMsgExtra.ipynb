{
 "cells": [
  {
   "cell_type": "markdown",
   "metadata": {},
   "source": [
    "<table align=\"left\">\n",
    "  <td>\n",
    "    <a target=\"_blank\" href=\"https://colab.research.google.com/github/john210808/covasim_delta/blob/main/Tools/twitterMsgExtra.ipynb\"><img src=\"https://www.tensorflow.org/images/colab_logo_32px.png\" />Run in Google Colab</a>\n",
    "  </td>\n",
    "</table>"
   ]
  },
  {
   "cell_type": "markdown",
   "metadata": {},
   "source": [
    "# Twitter Analysis"
   ]
  },
  {
   "cell_type": "markdown",
   "metadata": {},
   "source": [
    "## 1. Download twitter \n",
    "from  https://www.vicinitas.io/free-tools/download-user-tweets  \n",
    "    limitation: maximun 3,200 recent tweets \n",
    "    \n",
    "Please save the file in the same fold of notebook. If run in Colab, please first upload the file, or use following download code."
   ]
  },
  {
   "cell_type": "code",
   "execution_count": 7,
   "metadata": {},
   "outputs": [
    {
     "name": "stdout",
     "output_type": "stream",
     "text": [
      "Requirement already satisfied: wget in /opt/anaconda3/lib/python3.7/site-packages (3.2)\n",
      "Note: you may need to restart the kernel to use updated packages.\n"
     ]
    }
   ],
   "source": [
    "pip install wget"
   ]
  },
  {
   "cell_type": "markdown",
   "metadata": {},
   "source": [
    "### sample file"
   ]
  },
  {
   "cell_type": "code",
   "execution_count": 8,
   "metadata": {},
   "outputs": [
    {
     "name": "stdout",
     "output_type": "stream",
     "text": [
      "sample (2).xlsx\n"
     ]
    }
   ],
   "source": [
    "import wget\n",
    "url = 'https://github.com/john210808/covasim_delta/raw/main/Tools/sample.xlsx'\n",
    "inputName = wget.download(url)\n",
    "print(inputName)"
   ]
  },
  {
   "cell_type": "markdown",
   "metadata": {},
   "source": [
    "### can be used to unzip file"
   ]
  },
  {
   "cell_type": "code",
   "execution_count": 9,
   "metadata": {},
   "outputs": [],
   "source": [
    "import zipfile\n",
    "\n",
    "zipfileName = \"@NSWHealth_user_tweets.xlsx.zip\"\n",
    "# with zipfile.ZipFile(zipfileName,\"r\") as zip_ref:\n",
    "#     zip_ref.extractall(\".\")"
   ]
  },
  {
   "cell_type": "markdown",
   "metadata": {},
   "source": [
    "## 2. Run tools"
   ]
  },
  {
   "cell_type": "code",
   "execution_count": 10,
   "metadata": {},
   "outputs": [],
   "source": [
    "import pandas as pd\n",
    "import openpyxl\n",
    "import os\n",
    "from openpyxl import load_workbook\n",
    "\n",
    "baselink = \"\"\n",
    "\n",
    "def readXlsx(xlsxName):\n",
    "    global baselink\n",
    "    baselink = openpyxl.load_workbook(xlsxName)[\"tweets\"].cell(row=2, column=1).hyperlink.target\n",
    "    baselink = baselink[:baselink.rfind('/')]\n",
    "    df = pd.read_excel(xlsxName) \n",
    "    df[\"Time\"] = pd.DatetimeIndex(pd.to_datetime(df[\"UTC\"])).tz_convert('Australia/NSW')\n",
    "    df = df[[\"Tweet Id\", \"Text\", \"Name\", \"Screen Name\", \"Time\"]]\n",
    "    df[\"Tweet Id\"] = df[\"Tweet Id\"].apply(str)\n",
    "    return df\n",
    "\n",
    "\n",
    "def saveXlsx(df, name, overwrite=False):\n",
    "    tmpfile = \"__temp__.xlsx\"\n",
    "    df[\"Time\"] = df['Time'].dt.strftime('%Y-%m-%d %H:%M:%S')\n",
    "    df.to_excel(tmpfile, sheet_name='result', index=False)  \n",
    "\n",
    "    workbook = load_workbook(tmpfile)\n",
    "    worksheet = workbook.active\n",
    "\n",
    "    for row in range(2, worksheet.max_row + 1):\n",
    "        filelocation = worksheet.cell(column=1, row=row)  # this is hyperlink\n",
    "        c = worksheet.cell(column=1, row=row)\n",
    "        c.hyperlink = baselink + '/' + c.value\n",
    "\n",
    "    worksheet.column_dimensions['A'].width = 21\n",
    "    worksheet.column_dimensions['B'].width = 100\n",
    "    worksheet.column_dimensions['C'].width = 12\n",
    "    worksheet.column_dimensions['D'].width = 12\n",
    "    worksheet.column_dimensions['E'].width = 15\n",
    "    \n",
    "    \n",
    "    if name.rfind(\".xlsx\") > 0:\n",
    "        name = name[:name.rfind(\".xlsx\")]\n",
    "    \n",
    "    if os.path.isfile(name + \".xlsx\") and not overwrite:\n",
    "        files = [f for f in os.listdir(\".\") if os.path.isfile(f) and f.endswith(\".xlsx\") and f.startswith(name)]\n",
    "        name = '%s%03d' % (name, len(files)) #datetime.now().strftime(\"%m%d%H%M%S\")\n",
    "    \n",
    "    workbook.save(name + \".xlsx\")\n",
    "    os.remove(tmpfile)\n",
    "    \n",
    "def process(_df, outputName, start_time, end_time, words, authors = []):\n",
    "    \n",
    "    # conditions\n",
    "    cond_time = (_df['Time'] >= start_time) & (_df['Time'] <= end_time)\n",
    "    df = _df.loc[cond_time]\n",
    "    \n",
    "    text = df[\"Text\"].str\n",
    "    isfirst = False\n",
    "\n",
    "    for i in range(len(words)):\n",
    "        if i == 0:\n",
    "            cond_text = text.contains(words[i]) \n",
    "        else:\n",
    "            cond_text = cond_text | text.contains(words[i]) \n",
    "\n",
    "#     name = df[\"Name\"].str\n",
    "#     for i in range(len(authors)):\n",
    "#         if i == 0:\n",
    "#             cond_author = name.contains(authors[i]) \n",
    "#         else:\n",
    "#             cond_author = cond_author | name.contains(authors[i]) \n",
    "\n",
    "    df = df.loc[cond_text]\n",
    "    saveXlsx(df, \"output\", True)\n",
    "    print(\"totoal number: %d\" % df.shape[0])\n",
    "    \n",
    "    return df"
   ]
  },
  {
   "cell_type": "markdown",
   "metadata": {},
   "source": [
    "## 3. Change condition and export excels"
   ]
  },
  {
   "cell_type": "code",
   "execution_count": 13,
   "metadata": {},
   "outputs": [],
   "source": [
    "# If excel is large, this will take long time to run\n",
    "df0 = readXlsx(\"sample.xlsx\")"
   ]
  },
  {
   "cell_type": "code",
   "execution_count": 15,
   "metadata": {},
   "outputs": [
    {
     "name": "stdout",
     "output_type": "stream",
     "text": [
      "totoal number: 75\n"
     ]
    },
    {
     "data": {
      "text/html": [
       "<div>\n",
       "<style scoped>\n",
       "    .dataframe tbody tr th:only-of-type {\n",
       "        vertical-align: middle;\n",
       "    }\n",
       "\n",
       "    .dataframe tbody tr th {\n",
       "        vertical-align: top;\n",
       "    }\n",
       "\n",
       "    .dataframe thead th {\n",
       "        text-align: right;\n",
       "    }\n",
       "</style>\n",
       "<table border=\"1\" class=\"dataframe\">\n",
       "  <thead>\n",
       "    <tr style=\"text-align: right;\">\n",
       "      <th></th>\n",
       "      <th>Tweet Id</th>\n",
       "      <th>Text</th>\n",
       "      <th>Name</th>\n",
       "      <th>Screen Name</th>\n",
       "      <th>Time</th>\n",
       "    </tr>\n",
       "  </thead>\n",
       "  <tbody>\n",
       "    <tr>\n",
       "      <th>9</th>\n",
       "      <td>1426710846764306433</td>\n",
       "      <td>The Bourke sewage treatment plant serves about...</td>\n",
       "      <td>NSW Health</td>\n",
       "      <td>NSWHealth</td>\n",
       "      <td>2021-08-15 11:02:27</td>\n",
       "    </tr>\n",
       "    <tr>\n",
       "      <th>10</th>\n",
       "      <td>1426710843140448260</td>\n",
       "      <td>NSW Health's ongoing sewage surveillance progr...</td>\n",
       "      <td>NSW Health</td>\n",
       "      <td>NSWHealth</td>\n",
       "      <td>2021-08-15 11:02:26</td>\n",
       "    </tr>\n",
       "    <tr>\n",
       "      <th>30</th>\n",
       "      <td>1426514263670018052</td>\n",
       "      <td>⚠️PUBLIC HEALTH ALERT – NEW VENUES OF CONCERN⚠...</td>\n",
       "      <td>NSW Health</td>\n",
       "      <td>NSWHealth</td>\n",
       "      <td>2021-08-14 22:01:18</td>\n",
       "    </tr>\n",
       "    <tr>\n",
       "      <th>43</th>\n",
       "      <td>1426350457388077064</td>\n",
       "      <td>The Raymond Terrace sewage treatment plant in ...</td>\n",
       "      <td>NSW Health</td>\n",
       "      <td>NSWHealth</td>\n",
       "      <td>2021-08-14 11:10:24</td>\n",
       "    </tr>\n",
       "    <tr>\n",
       "      <th>44</th>\n",
       "      <td>1426350455337066496</td>\n",
       "      <td>While there are known cases in Raymond Terrace...</td>\n",
       "      <td>NSW Health</td>\n",
       "      <td>NSWHealth</td>\n",
       "      <td>2021-08-14 11:10:23</td>\n",
       "    </tr>\n",
       "  </tbody>\n",
       "</table>\n",
       "</div>"
      ],
      "text/plain": [
       "               Tweet Id                                               Text  \\\n",
       "9   1426710846764306433  The Bourke sewage treatment plant serves about...   \n",
       "10  1426710843140448260  NSW Health's ongoing sewage surveillance progr...   \n",
       "30  1426514263670018052  ⚠️PUBLIC HEALTH ALERT – NEW VENUES OF CONCERN⚠...   \n",
       "43  1426350457388077064  The Raymond Terrace sewage treatment plant in ...   \n",
       "44  1426350455337066496  While there are known cases in Raymond Terrace...   \n",
       "\n",
       "          Name Screen Name                 Time  \n",
       "9   NSW Health   NSWHealth  2021-08-15 11:02:27  \n",
       "10  NSW Health   NSWHealth  2021-08-15 11:02:26  \n",
       "30  NSW Health   NSWHealth  2021-08-14 22:01:18  \n",
       "43  NSW Health   NSWHealth  2021-08-14 11:10:24  \n",
       "44  NSW Health   NSWHealth  2021-08-14 11:10:23  "
      ]
     },
     "execution_count": 15,
     "metadata": {},
     "output_type": "execute_result"
    }
   ],
   "source": [
    "start_time = pd.Timestamp(\"2021-06-10 00:00:00\", tz='Australia/NSW')\n",
    "end_time =  pd.Timestamp(\"2021-08-20 23:59:59\", tz='Australia/NSW')\n",
    "words = [\"sewage\"]  # find texts that contain these words\n",
    "\n",
    "inputName = 'sample2.xlsx' # the downloaded excel file\n",
    "outName = \"output.xlsx\"   # the output\n",
    "\n",
    "out = process(df0, outName, start_time, end_time, words);\n",
    "out.head()"
   ]
  },
  {
   "cell_type": "code",
   "execution_count": null,
   "metadata": {},
   "outputs": [],
   "source": []
  }
 ],
 "metadata": {
  "kernelspec": {
   "display_name": "Python 3",
   "language": "python",
   "name": "python3"
  },
  "language_info": {
   "codemirror_mode": {
    "name": "ipython",
    "version": 3
   },
   "file_extension": ".py",
   "mimetype": "text/x-python",
   "name": "python",
   "nbconvert_exporter": "python",
   "pygments_lexer": "ipython3",
   "version": "3.7.9"
  }
 },
 "nbformat": 4,
 "nbformat_minor": 4
}
