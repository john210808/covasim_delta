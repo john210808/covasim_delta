{
 "cells": [
  {
   "cell_type": "code",
   "execution_count": 33,
   "metadata": {},
   "outputs": [],
   "source": [
    "addpath('class') "
   ]
  },
  {
   "cell_type": "code",
   "execution_count": 44,
   "metadata": {},
   "outputs": [
    {
     "name": "stdout",
     "output_type": "stream",
     "text": [
      "Created file '/Users/John/Documents/AustraliaStudy/Study/Research/covasim_delta/demo/covid19_tti/class/BasicClass.m'.\n"
     ]
    }
   ],
   "source": [
    "%%file class/BasicClass.m\n",
    "classdef BasicClass\n",
    "   properties\n",
    "      Value\n",
    "      ti = [-40 0];\n",
    "   end\n",
    "   methods\n",
    "        function obj = BasicClass(val)\n",
    "            if nargin == 1\n",
    "                obj.Value = val;\n",
    "            end\n",
    "        end\n",
    "        function r = roundOff(obj)\n",
    "         r = round([obj.Value],2);\n",
    "        end\n",
    "        function r = multiplyBy(obj,n)\n",
    "         r = [obj.Value] * n;\n",
    "        end\n",
    "        function r = tt(obj)\n",
    "            r = obj.roundOff() + 1;\n",
    "        end\n",
    "   end\n",
    "   methods (Static)\n",
    "       function r = testStatic(v)\n",
    "           v + 1\n",
    "       end\n",
    "   end\n",
    "end"
   ]
  },
  {
   "cell_type": "code",
   "execution_count": 45,
   "metadata": {},
   "outputs": [
    {
     "name": "stdout",
     "output_type": "stream",
     "text": [
      "\n",
      "ans =\n",
      "\n",
      "     2\n",
      "\n"
     ]
    }
   ],
   "source": [
    "BasicClass.testStatic(1)"
   ]
  },
  {
   "cell_type": "code",
   "execution_count": 39,
   "metadata": {},
   "outputs": [
    {
     "name": "stdout",
     "output_type": "stream",
     "text": [
      "\n",
      "a = \n",
      "\n",
      "  BasicClass with properties:\n",
      "\n",
      "    Value: 0.7854\n",
      "       ti: [-40 0]\n",
      "\n"
     ]
    }
   ],
   "source": [
    "a = BasicClass(pi/4)"
   ]
  },
  {
   "cell_type": "code",
   "execution_count": 40,
   "metadata": {},
   "outputs": [
    {
     "name": "stdout",
     "output_type": "stream",
     "text": [
      "\n",
      "ans =\n",
      "\n",
      "    1.7900\n",
      "\n"
     ]
    }
   ],
   "source": [
    "a.tt()"
   ]
  },
  {
   "cell_type": "code",
   "execution_count": 16,
   "metadata": {},
   "outputs": [
    {
     "name": "stdout",
     "output_type": "stream",
     "text": [
      "\n",
      "ans =\n",
      "\n",
      "    2.3562\n",
      "\n"
     ]
    }
   ],
   "source": [
    "a.multiplyBy(3)"
   ]
  }
 ],
 "metadata": {
  "kernelspec": {
   "display_name": "Matlab",
   "language": "matlab",
   "name": "matlab"
  },
  "language_info": {
   "codemirror_mode": "octave",
   "file_extension": ".m",
   "help_links": [
    {
     "text": "MetaKernel Magics",
     "url": "https://metakernel.readthedocs.io/en/latest/source/README.html"
    }
   ],
   "mimetype": "text/x-octave",
   "name": "matlab",
   "version": "0.16.11"
  }
 },
 "nbformat": 4,
 "nbformat_minor": 4
}
